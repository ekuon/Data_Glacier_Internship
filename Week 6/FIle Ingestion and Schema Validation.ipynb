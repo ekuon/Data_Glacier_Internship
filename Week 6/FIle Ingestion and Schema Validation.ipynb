{
 "cells": [
  {
   "cell_type": "markdown",
   "id": "36063d0e",
   "metadata": {},
   "source": [
    "# File Ingestion and Schema Validation"
   ]
  },
  {
   "cell_type": "code",
   "execution_count": 1,
   "id": "05b2a20f",
   "metadata": {},
   "outputs": [],
   "source": [
    "import os \n",
    "from timeit import default_timer as timer\n",
    "\n",
    "import warnings\n",
    "warnings.simplefilter(action='ignore', category=FutureWarning)"
   ]
  },
  {
   "cell_type": "markdown",
   "id": "17bd7649",
   "metadata": {},
   "source": [
    "## File Reading Using Different Methods"
   ]
  },
  {
   "cell_type": "markdown",
   "id": "318e896b",
   "metadata": {},
   "source": [
    "__DASK:__"
   ]
  },
  {
   "cell_type": "code",
   "execution_count": 3,
   "id": "ff67a8d7",
   "metadata": {},
   "outputs": [
    {
     "name": "stdout",
     "output_type": "stream",
     "text": [
      "Read CSV with Dask: 0.023096 sec\n"
     ]
    }
   ],
   "source": [
    "from dask import dataframe as dd \n",
    "start = timer()\n",
    "df = dd.read_csv('Dataset/eCommerce.csv')\n",
    "end = timer()\n",
    "print(\"Read CSV with Dask:\", round(end - start, 6), \"sec\")"
   ]
  },
  {
   "cell_type": "markdown",
   "id": "fa85f2e6",
   "metadata": {},
   "source": [
    "__PANDAS__:"
   ]
  },
  {
   "cell_type": "code",
   "execution_count": 4,
   "id": "8821b916",
   "metadata": {},
   "outputs": [
    {
     "name": "stdout",
     "output_type": "stream",
     "text": [
      "Read CSV with Pandas: 141.200817 sec\n"
     ]
    }
   ],
   "source": [
    "import pandas as pd \n",
    "start = timer()\n",
    "df = pd.read_csv('Dataset/eCommerce.csv')\n",
    "end = timer()\n",
    "print(\"Read CSV with Pandas:\", round(end - start, 6), \"sec\")"
   ]
  },
  {
   "cell_type": "markdown",
   "id": "317ae3e1",
   "metadata": {},
   "source": [
    "__RAY:__"
   ]
  },
  {
   "cell_type": "code",
   "execution_count": 5,
   "id": "0e78eef1",
   "metadata": {},
   "outputs": [
    {
     "name": "stderr",
     "output_type": "stream",
     "text": [
      "2023-02-08 16:33:04,836\tINFO worker.py:1529 -- Started a local Ray instance. View the dashboard at \u001b[1m\u001b[32mhttp://127.0.0.1:8265 \u001b[39m\u001b[22m\n",
      "2023-02-08 16:33:10,101\tWARNING read_api.py:315 -- ⚠️  The blocks of this dataset are estimated to be 10.0x larger than the target block size of 512 MiB. This may lead to out-of-memory errors during processing. Consider reducing the size of input files or using `.repartition(n)` to increase the number of dataset blocks.\n",
      "\u001b[2m\u001b[36m(raylet)\u001b[0m Spilled 2051 MiB, 4 objects, write throughput 111 MiB/s. Set RAY_verbose_spill_logs=0 to disable this message.\n",
      "\u001b[2m\u001b[36m(raylet)\u001b[0m Spilled 4103 MiB, 8 objects, write throughput 139 MiB/s.\n"
     ]
    },
    {
     "name": "stdout",
     "output_type": "stream",
     "text": [
      "Read CSV with Ray: 107.579427 sec\n"
     ]
    }
   ],
   "source": [
    "import ray\n",
    "start = timer()\n",
    "df = ray.data.read_csv('Dataset/eCommerce.csv')\n",
    "end = timer()\n",
    "print(\"Read CSV with Ray:\", round(end - start, 6), \"sec\")"
   ]
  },
  {
   "cell_type": "markdown",
   "id": "c294ab28",
   "metadata": {},
   "source": [
    "__MODIN (POWERED BY RAY):__"
   ]
  },
  {
   "cell_type": "code",
   "execution_count": 6,
   "id": "783d2648",
   "metadata": {},
   "outputs": [
    {
     "name": "stderr",
     "output_type": "stream",
     "text": [
      "UserWarning: When using a pre-initialized Ray cluster, please ensure that the runtime env sets environment variable __MODIN_AUTOIMPORT_PANDAS__ to 1\n"
     ]
    },
    {
     "name": "stdout",
     "output_type": "stream",
     "text": [
      "Read CSV with Modin: 198.760036 sec\n"
     ]
    }
   ],
   "source": [
    "import modin.pandas as mpd\n",
    "start = timer()\n",
    "df = mpd.read_csv('Dataset/eCommerce.csv')\n",
    "end = timer()\n",
    "print(\"Read CSV with Modin:\", round(end - start, 6), \"sec\")"
   ]
  },
  {
   "cell_type": "markdown",
   "id": "06381bf5",
   "metadata": {},
   "source": [
    "#### Based on the computational efficiency, we can see that Dask did better in file reading compared to Pandas, Ray, and Modin, with a reading time at 0.02 "
   ]
  },
  {
   "cell_type": "markdown",
   "id": "10b537d2",
   "metadata": {},
   "source": [
    "## Summary of the File (Working with Dask)"
   ]
  },
  {
   "cell_type": "code",
   "execution_count": 7,
   "id": "5692eaf9",
   "metadata": {},
   "outputs": [
    {
     "name": "stdout",
     "output_type": "stream",
     "text": [
      "<class 'dask.dataframe.core.DataFrame'>\n",
      "Columns: 9 entries, event_time to user_session\n",
      "dtypes: object(5), float64(1), int64(3)"
     ]
    }
   ],
   "source": [
    "from dask import dataframe as dd \n",
    "\n",
    "df = dd.read_csv('Dataset/eCommerce.csv')\n",
    "df.info()"
   ]
  },
  {
   "cell_type": "code",
   "execution_count": 8,
   "id": "05272ae7",
   "metadata": {},
   "outputs": [
    {
     "data": {
      "text/plain": [
       "42448764"
      ]
     },
     "execution_count": 8,
     "metadata": {},
     "output_type": "execute_result"
    }
   ],
   "source": [
    "# total number of rows\n",
    "len(df.index)"
   ]
  },
  {
   "cell_type": "code",
   "execution_count": 9,
   "id": "124c2859",
   "metadata": {},
   "outputs": [
    {
     "data": {
      "text/plain": [
       "9"
      ]
     },
     "execution_count": 9,
     "metadata": {},
     "output_type": "execute_result"
    }
   ],
   "source": [
    "# total number of columns\n",
    "len(df.columns)"
   ]
  },
  {
   "cell_type": "code",
   "execution_count": 37,
   "id": "0f70a517",
   "metadata": {},
   "outputs": [
    {
     "data": {
      "text/plain": [
       "5668612855"
      ]
     },
     "execution_count": 37,
     "metadata": {},
     "output_type": "execute_result"
    }
   ],
   "source": [
    "# size of the file\n",
    "os.path.getsize('Dataset/eCommerce.csv')"
   ]
  },
  {
   "cell_type": "code",
   "execution_count": 10,
   "id": "67deed47",
   "metadata": {
    "scrolled": true
   },
   "outputs": [
    {
     "data": {
      "text/plain": [
       "Index(['event_time', 'event_type', 'product_id', 'category_id',\n",
       "       'category_code', 'brand', 'price', 'user_id', 'user_session'],\n",
       "      dtype='object')"
      ]
     },
     "execution_count": 10,
     "metadata": {},
     "output_type": "execute_result"
    }
   ],
   "source": [
    "df_col = df.columns\n",
    "df_col"
   ]
  },
  {
   "cell_type": "markdown",
   "id": "98c750a1",
   "metadata": {},
   "source": [
    "* __The total number of observations the file have is 42248764__\n",
    "* __The total number of columns the file have is 9__ \n",
    "* __The file size is 5.67 GB or 5668612855 bytes__"
   ]
  },
  {
   "cell_type": "markdown",
   "id": "89027221",
   "metadata": {},
   "source": [
    "## Basic Validation\n",
    "* __Removing special characters and white spaces from columns__"
   ]
  },
  {
   "cell_type": "markdown",
   "id": "599d7f85",
   "metadata": {},
   "source": [
    "__Creating TestUtility.py File__"
   ]
  },
  {
   "cell_type": "code",
   "execution_count": 12,
   "id": "ca4e86ba",
   "metadata": {},
   "outputs": [
    {
     "name": "stdout",
     "output_type": "stream",
     "text": [
      "Overwriting testutility.py\n"
     ]
    }
   ],
   "source": [
    "%%writefile testutility.py\n",
    "import logging\n",
    "import os\n",
    "import subprocess\n",
    "import yaml\n",
    "import pandas as pd\n",
    "import datetime \n",
    "import gc\n",
    "import re\n",
    "\n",
    "def read_config_file(filepath):\n",
    "    with open(filepath, 'r') as stream:\n",
    "        try:\n",
    "            return yaml.safe_load(stream)\n",
    "        except yaml.YAMLError as exc:\n",
    "            logging.error(exc)\n",
    "\n",
    "\n",
    "def replacer(string, char):\n",
    "    pattern = char + '{2,}'\n",
    "    string = re.sub(pattern, char, string) \n",
    "    return string\n",
    "\n",
    "def col_header_val(df,table_config):\n",
    "    df.columns = df.columns.str.lower()\n",
    "    df.columns = df.columns.str.replace('[^\\w]','_',regex=True)\n",
    "    df.columns = list(map(lambda x: x.strip('_'), list(df.columns)))\n",
    "    df.columns = list(map(lambda x: replacer(x,'_'), list(df.columns)))\n",
    "    expected_col = list(map(lambda x: x.lower(),  table_config['columns']))\n",
    "    expected_col.sort()\n",
    "    df.columns =list(map(lambda x: x.lower(), list(df.columns)))\n",
    "    df = df.reindex(sorted(df.columns), axis=1)\n",
    "    if len(df.columns) == len(expected_col) and list(expected_col)  == list(df.columns):\n",
    "        print(\"column name and column length validation passed\")\n",
    "        return 1\n",
    "    else:\n",
    "        print(\"column name and column length validation failed\")\n",
    "        mismatched_columns_file = list(set(df.columns).difference(expected_col))\n",
    "        print(\"Following File columns are not in the YAML file\",mismatched_columns_file)\n",
    "        missing_YAML_file = list(set(expected_col).difference(df.columns))\n",
    "        print(\"Following YAML columns are not in the file uploaded\",missing_YAML_file)\n",
    "        logging.info(f'df columns: {df.columns}')\n",
    "        logging.info(f'expected columns: {expected_col}')\n",
    "        return 0"
   ]
  },
  {
   "cell_type": "markdown",
   "id": "a46dd0ca",
   "metadata": {},
   "source": [
    "__Crating a YAML file__"
   ]
  },
  {
   "cell_type": "code",
   "execution_count": 13,
   "id": "e49ca8dd",
   "metadata": {},
   "outputs": [
    {
     "name": "stdout",
     "output_type": "stream",
     "text": [
      "Overwriting file.yaml\n"
     ]
    }
   ],
   "source": [
    "%%writefile file.yaml\n",
    "file_type: csv\n",
    "dataset_name: testfile\n",
    "file_name: eCommerce\n",
    "table_name: edsurv\n",
    "inbound_delimiter: \",\"\n",
    "outbound_delimiter: \"|\"\n",
    "skip_leading_rows: 1\n",
    "columns: \n",
    "    - Event_time\n",
    "    - Event_type \n",
    "    - ProductID\n",
    "    - CategoryID\n",
    "    - Category_code \n",
    "    - Brand\n",
    "    - Price \n",
    "    - UserID \n",
    "    - User_session"
   ]
  },
  {
   "cell_type": "code",
   "execution_count": 14,
   "id": "694094b3",
   "metadata": {},
   "outputs": [],
   "source": [
    "# Reading config file\n",
    "import testutility as util\n",
    "config_data = util.read_config_file(\"file.yaml\")"
   ]
  },
  {
   "cell_type": "code",
   "execution_count": 15,
   "id": "a46ccc30",
   "metadata": {},
   "outputs": [
    {
     "data": {
      "text/plain": [
       "','"
      ]
     },
     "execution_count": 15,
     "metadata": {},
     "output_type": "execute_result"
    }
   ],
   "source": [
    "config_data['inbound_delimiter']"
   ]
  },
  {
   "cell_type": "code",
   "execution_count": 16,
   "id": "ffc3d5aa",
   "metadata": {},
   "outputs": [
    {
     "data": {
      "text/plain": [
       "{'file_type': 'csv',\n",
       " 'dataset_name': 'testfile',\n",
       " 'file_name': 'eCommerce',\n",
       " 'table_name': 'edsurv',\n",
       " 'inbound_delimiter': ',',\n",
       " 'outbound_delimiter': '|',\n",
       " 'skip_leading_rows': 1,\n",
       " 'columns': ['Event_time',\n",
       "  'Event_type',\n",
       "  'ProductID',\n",
       "  'CategoryID',\n",
       "  'Category_code',\n",
       "  'Brand',\n",
       "  'Price',\n",
       "  'UserID',\n",
       "  'User_session']}"
      ]
     },
     "execution_count": 16,
     "metadata": {},
     "output_type": "execute_result"
    }
   ],
   "source": [
    "config_data"
   ]
  },
  {
   "cell_type": "code",
   "execution_count": 47,
   "id": "cabca827",
   "metadata": {},
   "outputs": [
    {
     "data": {
      "text/html": [
       "<div>\n",
       "<style scoped>\n",
       "    .dataframe tbody tr th:only-of-type {\n",
       "        vertical-align: middle;\n",
       "    }\n",
       "\n",
       "    .dataframe tbody tr th {\n",
       "        vertical-align: top;\n",
       "    }\n",
       "\n",
       "    .dataframe thead th {\n",
       "        text-align: right;\n",
       "    }\n",
       "</style>\n",
       "<table border=\"1\" class=\"dataframe\">\n",
       "  <thead>\n",
       "    <tr style=\"text-align: right;\">\n",
       "      <th></th>\n",
       "      <th>event_time</th>\n",
       "      <th>event_type</th>\n",
       "      <th>product_id</th>\n",
       "      <th>category_id</th>\n",
       "      <th>category_code</th>\n",
       "      <th>brand</th>\n",
       "      <th>price</th>\n",
       "      <th>user_id</th>\n",
       "      <th>user_session</th>\n",
       "    </tr>\n",
       "  </thead>\n",
       "  <tbody>\n",
       "    <tr>\n",
       "      <th>0</th>\n",
       "      <td>2019-10-01 00:00:00 UTC</td>\n",
       "      <td>view</td>\n",
       "      <td>44600062</td>\n",
       "      <td>2103807459595387724</td>\n",
       "      <td>NaN</td>\n",
       "      <td>shiseido</td>\n",
       "      <td>35.79</td>\n",
       "      <td>541312140</td>\n",
       "      <td>72d76fde-8bb3-4e00-8c23-a032dfed738c</td>\n",
       "    </tr>\n",
       "    <tr>\n",
       "      <th>1</th>\n",
       "      <td>2019-10-01 00:00:00 UTC</td>\n",
       "      <td>view</td>\n",
       "      <td>3900821</td>\n",
       "      <td>2053013552326770905</td>\n",
       "      <td>appliances.environment.water_heater</td>\n",
       "      <td>aqua</td>\n",
       "      <td>33.20</td>\n",
       "      <td>554748717</td>\n",
       "      <td>9333dfbd-b87a-4708-9857-6336556b0fcc</td>\n",
       "    </tr>\n",
       "    <tr>\n",
       "      <th>2</th>\n",
       "      <td>2019-10-01 00:00:01 UTC</td>\n",
       "      <td>view</td>\n",
       "      <td>17200506</td>\n",
       "      <td>2053013559792632471</td>\n",
       "      <td>furniture.living_room.sofa</td>\n",
       "      <td>NaN</td>\n",
       "      <td>543.10</td>\n",
       "      <td>519107250</td>\n",
       "      <td>566511c2-e2e3-422b-b695-cf8e6e792ca8</td>\n",
       "    </tr>\n",
       "    <tr>\n",
       "      <th>3</th>\n",
       "      <td>2019-10-01 00:00:01 UTC</td>\n",
       "      <td>view</td>\n",
       "      <td>1307067</td>\n",
       "      <td>2053013558920217191</td>\n",
       "      <td>computers.notebook</td>\n",
       "      <td>lenovo</td>\n",
       "      <td>251.74</td>\n",
       "      <td>550050854</td>\n",
       "      <td>7c90fc70-0e80-4590-96f3-13c02c18c713</td>\n",
       "    </tr>\n",
       "    <tr>\n",
       "      <th>4</th>\n",
       "      <td>2019-10-01 00:00:04 UTC</td>\n",
       "      <td>view</td>\n",
       "      <td>1004237</td>\n",
       "      <td>2053013555631882655</td>\n",
       "      <td>electronics.smartphone</td>\n",
       "      <td>apple</td>\n",
       "      <td>1081.98</td>\n",
       "      <td>535871217</td>\n",
       "      <td>c6bd7419-2748-4c56-95b4-8cec9ff8b80d</td>\n",
       "    </tr>\n",
       "  </tbody>\n",
       "</table>\n",
       "</div>"
      ],
      "text/plain": [
       "                event_time event_type  product_id          category_id  \\\n",
       "0  2019-10-01 00:00:00 UTC       view    44600062  2103807459595387724   \n",
       "1  2019-10-01 00:00:00 UTC       view     3900821  2053013552326770905   \n",
       "2  2019-10-01 00:00:01 UTC       view    17200506  2053013559792632471   \n",
       "3  2019-10-01 00:00:01 UTC       view     1307067  2053013558920217191   \n",
       "4  2019-10-01 00:00:04 UTC       view     1004237  2053013555631882655   \n",
       "\n",
       "                         category_code     brand    price    user_id  \\\n",
       "0                                  NaN  shiseido    35.79  541312140   \n",
       "1  appliances.environment.water_heater      aqua    33.20  554748717   \n",
       "2           furniture.living_room.sofa       NaN   543.10  519107250   \n",
       "3                   computers.notebook    lenovo   251.74  550050854   \n",
       "4               electronics.smartphone     apple  1081.98  535871217   \n",
       "\n",
       "                           user_session  \n",
       "0  72d76fde-8bb3-4e00-8c23-a032dfed738c  \n",
       "1  9333dfbd-b87a-4708-9857-6336556b0fcc  \n",
       "2  566511c2-e2e3-422b-b695-cf8e6e792ca8  \n",
       "3  7c90fc70-0e80-4590-96f3-13c02c18c713  \n",
       "4  c6bd7419-2748-4c56-95b4-8cec9ff8b80d  "
      ]
     },
     "execution_count": 47,
     "metadata": {},
     "output_type": "execute_result"
    }
   ],
   "source": [
    "# Reading process of file using Dask\n",
    "from dask import dataframe as dd\n",
    "df_sample = dd.read_csv('Dataset/eCommerce.csv')\n",
    "df_sample.head()"
   ]
  },
  {
   "cell_type": "code",
   "execution_count": 48,
   "id": "33415439",
   "metadata": {},
   "outputs": [
    {
     "name": "stdout",
     "output_type": "stream",
     "text": [
      " Dataset/eCommerce.csv\n"
     ]
    }
   ],
   "source": [
    "# Read the file using config file\n",
    "file_type = config_data['file_type']\n",
    "source_file = \"Dataset/\" + config_data['file_name'] + f'.{file_type}'\n",
    "print(\"\",source_file)"
   ]
  },
  {
   "cell_type": "code",
   "execution_count": 49,
   "id": "d70d10fa",
   "metadata": {},
   "outputs": [
    {
     "data": {
      "text/html": [
       "<div>\n",
       "<style scoped>\n",
       "    .dataframe tbody tr th:only-of-type {\n",
       "        vertical-align: middle;\n",
       "    }\n",
       "\n",
       "    .dataframe tbody tr th {\n",
       "        vertical-align: top;\n",
       "    }\n",
       "\n",
       "    .dataframe thead th {\n",
       "        text-align: right;\n",
       "    }\n",
       "</style>\n",
       "<table border=\"1\" class=\"dataframe\">\n",
       "  <thead>\n",
       "    <tr style=\"text-align: right;\">\n",
       "      <th></th>\n",
       "      <th>event_time</th>\n",
       "      <th>event_type</th>\n",
       "      <th>product_id</th>\n",
       "      <th>category_id</th>\n",
       "      <th>category_code</th>\n",
       "      <th>brand</th>\n",
       "      <th>price</th>\n",
       "      <th>user_id</th>\n",
       "      <th>user_session</th>\n",
       "    </tr>\n",
       "  </thead>\n",
       "  <tbody>\n",
       "    <tr>\n",
       "      <th>0</th>\n",
       "      <td>2019-10-01 00:00:00 UTC</td>\n",
       "      <td>view</td>\n",
       "      <td>44600062</td>\n",
       "      <td>2103807459595387724</td>\n",
       "      <td>NaN</td>\n",
       "      <td>shiseido</td>\n",
       "      <td>35.79</td>\n",
       "      <td>541312140</td>\n",
       "      <td>72d76fde-8bb3-4e00-8c23-a032dfed738c</td>\n",
       "    </tr>\n",
       "    <tr>\n",
       "      <th>1</th>\n",
       "      <td>2019-10-01 00:00:00 UTC</td>\n",
       "      <td>view</td>\n",
       "      <td>3900821</td>\n",
       "      <td>2053013552326770905</td>\n",
       "      <td>appliances.environment.water_heater</td>\n",
       "      <td>aqua</td>\n",
       "      <td>33.20</td>\n",
       "      <td>554748717</td>\n",
       "      <td>9333dfbd-b87a-4708-9857-6336556b0fcc</td>\n",
       "    </tr>\n",
       "    <tr>\n",
       "      <th>2</th>\n",
       "      <td>2019-10-01 00:00:01 UTC</td>\n",
       "      <td>view</td>\n",
       "      <td>17200506</td>\n",
       "      <td>2053013559792632471</td>\n",
       "      <td>furniture.living_room.sofa</td>\n",
       "      <td>NaN</td>\n",
       "      <td>543.10</td>\n",
       "      <td>519107250</td>\n",
       "      <td>566511c2-e2e3-422b-b695-cf8e6e792ca8</td>\n",
       "    </tr>\n",
       "    <tr>\n",
       "      <th>3</th>\n",
       "      <td>2019-10-01 00:00:01 UTC</td>\n",
       "      <td>view</td>\n",
       "      <td>1307067</td>\n",
       "      <td>2053013558920217191</td>\n",
       "      <td>computers.notebook</td>\n",
       "      <td>lenovo</td>\n",
       "      <td>251.74</td>\n",
       "      <td>550050854</td>\n",
       "      <td>7c90fc70-0e80-4590-96f3-13c02c18c713</td>\n",
       "    </tr>\n",
       "    <tr>\n",
       "      <th>4</th>\n",
       "      <td>2019-10-01 00:00:04 UTC</td>\n",
       "      <td>view</td>\n",
       "      <td>1004237</td>\n",
       "      <td>2053013555631882655</td>\n",
       "      <td>electronics.smartphone</td>\n",
       "      <td>apple</td>\n",
       "      <td>1081.98</td>\n",
       "      <td>535871217</td>\n",
       "      <td>c6bd7419-2748-4c56-95b4-8cec9ff8b80d</td>\n",
       "    </tr>\n",
       "  </tbody>\n",
       "</table>\n",
       "</div>"
      ],
      "text/plain": [
       "                event_time event_type  product_id          category_id  \\\n",
       "0  2019-10-01 00:00:00 UTC       view    44600062  2103807459595387724   \n",
       "1  2019-10-01 00:00:00 UTC       view     3900821  2053013552326770905   \n",
       "2  2019-10-01 00:00:01 UTC       view    17200506  2053013559792632471   \n",
       "3  2019-10-01 00:00:01 UTC       view     1307067  2053013558920217191   \n",
       "4  2019-10-01 00:00:04 UTC       view     1004237  2053013555631882655   \n",
       "\n",
       "                         category_code     brand    price    user_id  \\\n",
       "0                                  NaN  shiseido    35.79  541312140   \n",
       "1  appliances.environment.water_heater      aqua    33.20  554748717   \n",
       "2           furniture.living_room.sofa       NaN   543.10  519107250   \n",
       "3                   computers.notebook    lenovo   251.74  550050854   \n",
       "4               electronics.smartphone     apple  1081.98  535871217   \n",
       "\n",
       "                           user_session  \n",
       "0  72d76fde-8bb3-4e00-8c23-a032dfed738c  \n",
       "1  9333dfbd-b87a-4708-9857-6336556b0fcc  \n",
       "2  566511c2-e2e3-422b-b695-cf8e6e792ca8  \n",
       "3  7c90fc70-0e80-4590-96f3-13c02c18c713  \n",
       "4  c6bd7419-2748-4c56-95b4-8cec9ff8b80d  "
      ]
     },
     "execution_count": 49,
     "metadata": {},
     "output_type": "execute_result"
    }
   ],
   "source": [
    "df = pd.read_csv(source_file,config_data['inbound_delimiter'])\n",
    "df.head()"
   ]
  },
  {
   "cell_type": "code",
   "execution_count": 50,
   "id": "aa3ae332",
   "metadata": {},
   "outputs": [
    {
     "name": "stdout",
     "output_type": "stream",
     "text": [
      "column name and column length validation failed\n",
      "Following File columns are not in the YAML file ['product_id', 'user_id', 'category_id']\n",
      "Following YAML columns are not in the file uploaded ['categoryid', 'userid', 'productid']\n"
     ]
    },
    {
     "data": {
      "text/plain": [
       "0"
      ]
     },
     "execution_count": 50,
     "metadata": {},
     "output_type": "execute_result"
    }
   ],
   "source": [
    "#validating the header of the file\n",
    "util.col_header_val(df,config_data)"
   ]
  },
  {
   "cell_type": "code",
   "execution_count": 51,
   "id": "ed581b35",
   "metadata": {},
   "outputs": [
    {
     "name": "stdout",
     "output_type": "stream",
     "text": [
      "Columns of files are: Index(['event_time', 'event_type', 'product_id', 'category_id',\n",
      "       'category_code', 'brand', 'price', 'user_id', 'user_session'],\n",
      "      dtype='object')\n",
      "Columns of YAML are: ['Event_time', 'Event_type', 'ProductID', 'CategoryID', 'Category_code', 'Brand', 'Price', 'UserID', 'User_session']\n"
     ]
    }
   ],
   "source": [
    "print(\"Columns of files are:\" ,df.columns)\n",
    "print(\"Columns of YAML are:\" ,config_data['columns'])"
   ]
  },
  {
   "cell_type": "code",
   "execution_count": 52,
   "id": "beb3a114",
   "metadata": {},
   "outputs": [
    {
     "name": "stdout",
     "output_type": "stream",
     "text": [
      "column name and column length validation failed\n",
      "Following File columns are not in the YAML file ['product_id', 'user_id', 'category_id']\n",
      "Following YAML columns are not in the file uploaded ['categoryid', 'userid', 'productid']\n",
      "validation failed, rejecting the file! Look into the validation header of the file.\n"
     ]
    }
   ],
   "source": [
    "if util.col_header_val(df,config_data)==0:\n",
    "    print(\"validation failed, rejecting the file! Look into the validation header of the file.\")\n",
    "else:\n",
    "    print(\"col validation passed perform further action in the pipeline!\")"
   ]
  },
  {
   "cell_type": "markdown",
   "id": "6e40a1f1",
   "metadata": {},
   "source": [
    "## Write File in GZ Format  "
   ]
  },
  {
   "cell_type": "markdown",
   "id": "9d59d9b5",
   "metadata": {},
   "source": [
    "__Writing the CSV format of the file in gz format in pipe separated text file (|)__"
   ]
  },
  {
   "cell_type": "code",
   "execution_count": 42,
   "id": "8291f703",
   "metadata": {
    "scrolled": true
   },
   "outputs": [
    {
     "data": {
      "text/plain": [
       "['/Users/elissakuon/data_glacier_repos/eCommerce.csv.gz/00.part',\n",
       " '/Users/elissakuon/data_glacier_repos/eCommerce.csv.gz/01.part',\n",
       " '/Users/elissakuon/data_glacier_repos/eCommerce.csv.gz/02.part',\n",
       " '/Users/elissakuon/data_glacier_repos/eCommerce.csv.gz/03.part',\n",
       " '/Users/elissakuon/data_glacier_repos/eCommerce.csv.gz/04.part',\n",
       " '/Users/elissakuon/data_glacier_repos/eCommerce.csv.gz/05.part',\n",
       " '/Users/elissakuon/data_glacier_repos/eCommerce.csv.gz/06.part',\n",
       " '/Users/elissakuon/data_glacier_repos/eCommerce.csv.gz/07.part',\n",
       " '/Users/elissakuon/data_glacier_repos/eCommerce.csv.gz/08.part',\n",
       " '/Users/elissakuon/data_glacier_repos/eCommerce.csv.gz/09.part',\n",
       " '/Users/elissakuon/data_glacier_repos/eCommerce.csv.gz/10.part',\n",
       " '/Users/elissakuon/data_glacier_repos/eCommerce.csv.gz/11.part',\n",
       " '/Users/elissakuon/data_glacier_repos/eCommerce.csv.gz/12.part',\n",
       " '/Users/elissakuon/data_glacier_repos/eCommerce.csv.gz/13.part',\n",
       " '/Users/elissakuon/data_glacier_repos/eCommerce.csv.gz/14.part',\n",
       " '/Users/elissakuon/data_glacier_repos/eCommerce.csv.gz/15.part',\n",
       " '/Users/elissakuon/data_glacier_repos/eCommerce.csv.gz/16.part',\n",
       " '/Users/elissakuon/data_glacier_repos/eCommerce.csv.gz/17.part',\n",
       " '/Users/elissakuon/data_glacier_repos/eCommerce.csv.gz/18.part',\n",
       " '/Users/elissakuon/data_glacier_repos/eCommerce.csv.gz/19.part',\n",
       " '/Users/elissakuon/data_glacier_repos/eCommerce.csv.gz/20.part',\n",
       " '/Users/elissakuon/data_glacier_repos/eCommerce.csv.gz/21.part',\n",
       " '/Users/elissakuon/data_glacier_repos/eCommerce.csv.gz/22.part',\n",
       " '/Users/elissakuon/data_glacier_repos/eCommerce.csv.gz/23.part',\n",
       " '/Users/elissakuon/data_glacier_repos/eCommerce.csv.gz/24.part',\n",
       " '/Users/elissakuon/data_glacier_repos/eCommerce.csv.gz/25.part',\n",
       " '/Users/elissakuon/data_glacier_repos/eCommerce.csv.gz/26.part',\n",
       " '/Users/elissakuon/data_glacier_repos/eCommerce.csv.gz/27.part',\n",
       " '/Users/elissakuon/data_glacier_repos/eCommerce.csv.gz/28.part',\n",
       " '/Users/elissakuon/data_glacier_repos/eCommerce.csv.gz/29.part',\n",
       " '/Users/elissakuon/data_glacier_repos/eCommerce.csv.gz/30.part',\n",
       " '/Users/elissakuon/data_glacier_repos/eCommerce.csv.gz/31.part',\n",
       " '/Users/elissakuon/data_glacier_repos/eCommerce.csv.gz/32.part',\n",
       " '/Users/elissakuon/data_glacier_repos/eCommerce.csv.gz/33.part',\n",
       " '/Users/elissakuon/data_glacier_repos/eCommerce.csv.gz/34.part',\n",
       " '/Users/elissakuon/data_glacier_repos/eCommerce.csv.gz/35.part',\n",
       " '/Users/elissakuon/data_glacier_repos/eCommerce.csv.gz/36.part',\n",
       " '/Users/elissakuon/data_glacier_repos/eCommerce.csv.gz/37.part',\n",
       " '/Users/elissakuon/data_glacier_repos/eCommerce.csv.gz/38.part',\n",
       " '/Users/elissakuon/data_glacier_repos/eCommerce.csv.gz/39.part',\n",
       " '/Users/elissakuon/data_glacier_repos/eCommerce.csv.gz/40.part',\n",
       " '/Users/elissakuon/data_glacier_repos/eCommerce.csv.gz/41.part',\n",
       " '/Users/elissakuon/data_glacier_repos/eCommerce.csv.gz/42.part',\n",
       " '/Users/elissakuon/data_glacier_repos/eCommerce.csv.gz/43.part',\n",
       " '/Users/elissakuon/data_glacier_repos/eCommerce.csv.gz/44.part',\n",
       " '/Users/elissakuon/data_glacier_repos/eCommerce.csv.gz/45.part',\n",
       " '/Users/elissakuon/data_glacier_repos/eCommerce.csv.gz/46.part',\n",
       " '/Users/elissakuon/data_glacier_repos/eCommerce.csv.gz/47.part',\n",
       " '/Users/elissakuon/data_glacier_repos/eCommerce.csv.gz/48.part',\n",
       " '/Users/elissakuon/data_glacier_repos/eCommerce.csv.gz/49.part',\n",
       " '/Users/elissakuon/data_glacier_repos/eCommerce.csv.gz/50.part',\n",
       " '/Users/elissakuon/data_glacier_repos/eCommerce.csv.gz/51.part',\n",
       " '/Users/elissakuon/data_glacier_repos/eCommerce.csv.gz/52.part',\n",
       " '/Users/elissakuon/data_glacier_repos/eCommerce.csv.gz/53.part',\n",
       " '/Users/elissakuon/data_glacier_repos/eCommerce.csv.gz/54.part',\n",
       " '/Users/elissakuon/data_glacier_repos/eCommerce.csv.gz/55.part',\n",
       " '/Users/elissakuon/data_glacier_repos/eCommerce.csv.gz/56.part',\n",
       " '/Users/elissakuon/data_glacier_repos/eCommerce.csv.gz/57.part',\n",
       " '/Users/elissakuon/data_glacier_repos/eCommerce.csv.gz/58.part',\n",
       " '/Users/elissakuon/data_glacier_repos/eCommerce.csv.gz/59.part',\n",
       " '/Users/elissakuon/data_glacier_repos/eCommerce.csv.gz/60.part',\n",
       " '/Users/elissakuon/data_glacier_repos/eCommerce.csv.gz/61.part',\n",
       " '/Users/elissakuon/data_glacier_repos/eCommerce.csv.gz/62.part',\n",
       " '/Users/elissakuon/data_glacier_repos/eCommerce.csv.gz/63.part',\n",
       " '/Users/elissakuon/data_glacier_repos/eCommerce.csv.gz/64.part',\n",
       " '/Users/elissakuon/data_glacier_repos/eCommerce.csv.gz/65.part',\n",
       " '/Users/elissakuon/data_glacier_repos/eCommerce.csv.gz/66.part',\n",
       " '/Users/elissakuon/data_glacier_repos/eCommerce.csv.gz/67.part',\n",
       " '/Users/elissakuon/data_glacier_repos/eCommerce.csv.gz/68.part',\n",
       " '/Users/elissakuon/data_glacier_repos/eCommerce.csv.gz/69.part',\n",
       " '/Users/elissakuon/data_glacier_repos/eCommerce.csv.gz/70.part',\n",
       " '/Users/elissakuon/data_glacier_repos/eCommerce.csv.gz/71.part',\n",
       " '/Users/elissakuon/data_glacier_repos/eCommerce.csv.gz/72.part',\n",
       " '/Users/elissakuon/data_glacier_repos/eCommerce.csv.gz/73.part',\n",
       " '/Users/elissakuon/data_glacier_repos/eCommerce.csv.gz/74.part',\n",
       " '/Users/elissakuon/data_glacier_repos/eCommerce.csv.gz/75.part',\n",
       " '/Users/elissakuon/data_glacier_repos/eCommerce.csv.gz/76.part',\n",
       " '/Users/elissakuon/data_glacier_repos/eCommerce.csv.gz/77.part',\n",
       " '/Users/elissakuon/data_glacier_repos/eCommerce.csv.gz/78.part',\n",
       " '/Users/elissakuon/data_glacier_repos/eCommerce.csv.gz/79.part',\n",
       " '/Users/elissakuon/data_glacier_repos/eCommerce.csv.gz/80.part',\n",
       " '/Users/elissakuon/data_glacier_repos/eCommerce.csv.gz/81.part',\n",
       " '/Users/elissakuon/data_glacier_repos/eCommerce.csv.gz/82.part',\n",
       " '/Users/elissakuon/data_glacier_repos/eCommerce.csv.gz/83.part',\n",
       " '/Users/elissakuon/data_glacier_repos/eCommerce.csv.gz/84.part',\n",
       " '/Users/elissakuon/data_glacier_repos/eCommerce.csv.gz/85.part',\n",
       " '/Users/elissakuon/data_glacier_repos/eCommerce.csv.gz/86.part',\n",
       " '/Users/elissakuon/data_glacier_repos/eCommerce.csv.gz/87.part']"
      ]
     },
     "execution_count": 42,
     "metadata": {},
     "output_type": "execute_result"
    }
   ],
   "source": [
    "import csv\n",
    "import gzip\n",
    "\n",
    "from dask import dataframe as dd\n",
    "df = dd.read_csv('Dataset/eCommerce.csv',delimiter=',')\n",
    "\n",
    "# Create CSV with gzip compression in Dask \n",
    "# to_csv = write object to a csv format\n",
    "df.to_csv('eCommerce.csv.gz',\n",
    "          sep='|',\n",
    "          header=True,\n",
    "          index=False,\n",
    "          compression='gzip',\n",
    "          line_terminator='\\n')"
   ]
  },
  {
   "cell_type": "markdown",
   "id": "b5539c08",
   "metadata": {},
   "source": [
    "__Code outputs a list of all files within the CSV files in gz format, where there is a total of 87 files__"
   ]
  },
  {
   "cell_type": "markdown",
   "id": "0ac2e967",
   "metadata": {},
   "source": [
    "#### Size of the CSV file in gz format"
   ]
  },
  {
   "cell_type": "code",
   "execution_count": 25,
   "id": "e0839998",
   "metadata": {},
   "outputs": [
    {
     "data": {
      "text/plain": [
       "2880"
      ]
     },
     "execution_count": 25,
     "metadata": {},
     "output_type": "execute_result"
    }
   ],
   "source": [
    "# size of the gz format folder\n",
    "os.path.getsize('eCommerce.csv.gz')"
   ]
  }
 ],
 "metadata": {
  "kernelspec": {
   "display_name": "Python 3 (ipykernel)",
   "language": "python",
   "name": "python3"
  },
  "language_info": {
   "codemirror_mode": {
    "name": "ipython",
    "version": 3
   },
   "file_extension": ".py",
   "mimetype": "text/x-python",
   "name": "python",
   "nbconvert_exporter": "python",
   "pygments_lexer": "ipython3",
   "version": "3.8.8"
  }
 },
 "nbformat": 4,
 "nbformat_minor": 5
}
